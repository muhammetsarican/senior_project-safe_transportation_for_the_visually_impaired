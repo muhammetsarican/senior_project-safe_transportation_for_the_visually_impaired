{
 "cells": [
  {
   "cell_type": "code",
   "execution_count": 8,
   "id": "fc11d4fc",
   "metadata": {},
   "outputs": [
    {
     "name": "stdout",
     "output_type": "stream",
     "text": [
      "[INFO] Loading Network...\n"
     ]
    }
   ],
   "source": [
    "from keras.preprocessing.image import img_to_array\n",
    "from keras.models import load_model\n",
    "import numpy as np\n",
    "import imutils \n",
    "import cv2\n",
    "\n",
    "modelname=\"roads.model\"\n",
    "img_file=\"resimler/picture_35.png\"\n",
    "resize=28\n",
    "\n",
    "image=cv2.imread(img_file)\n",
    "\n",
    "bbox=cv2.selectROI(image,False)\n",
    "\n",
    "image=image[int(bbox[1]):int(bbox[1]+bbox[3]),int(bbox[0]):int(bbox[0]+bbox[2]),:]\n",
    "\n",
    "selected=image.copy()\n",
    "\n",
    "image=cv2.resize(image,(resize,resize))\n",
    "image=image.astype(\"float\")/255.0\n",
    "image=img_to_array(image)\n",
    "image=np.expand_dims(image,axis=0)\n",
    "\n",
    "print(\"[INFO] Loading Network...\")\n",
    "model=load_model(modelname)\n",
    "\n",
    "(negative,positive)=model.predict(image)[0]\n",
    "\n",
    "label=\"Road\" if positive>negative else \"Not Road\"\n",
    "proba=positive if positive>negative else negative\n",
    "label=\"{}:{:.2f}%\".format(label,proba*100)\n",
    "\n",
    "output=imutils.resize(selected,width=400)\n",
    "cv2.putText(output,label,(10,25),cv2.FONT_HERSHEY_SIMPLEX,0.7,(0,255,0),2)\n",
    "\n",
    "cv2.imshow(\"Output\",output)\n",
    "cv2.waitKey(0)\n",
    "cv2.destroyAllWindows()"
   ]
  }
 ],
 "metadata": {
  "kernelspec": {
   "display_name": "Python 3 (ipykernel)",
   "language": "python",
   "name": "python3"
  },
  "language_info": {
   "codemirror_mode": {
    "name": "ipython",
    "version": 3
   },
   "file_extension": ".py",
   "mimetype": "text/x-python",
   "name": "python",
   "nbconvert_exporter": "python",
   "pygments_lexer": "ipython3",
   "version": "3.9.7"
  }
 },
 "nbformat": 4,
 "nbformat_minor": 5
}
