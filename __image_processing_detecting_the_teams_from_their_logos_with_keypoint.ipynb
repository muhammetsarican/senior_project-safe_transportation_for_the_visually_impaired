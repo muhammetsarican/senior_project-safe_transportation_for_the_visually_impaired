{
 "cells": [
  {
   "cell_type": "code",
   "execution_count": 32,
   "id": "456f5050",
   "metadata": {},
   "outputs": [
    {
     "name": "stdout",
     "output_type": "stream",
     "text": [
      "Sistem Exit\n"
     ]
    }
   ],
   "source": [
    "import numpy as np \n",
    "import cv2\n",
    "\n",
    "face_cascade=cv2.CascadeClassifier('haarcascade_frontalface_default.xml')\n",
    "eye_cascade=cv2.CascadeClassifier(\"haarcascade_eye.xml\")\n",
    "\n",
    "#cap=cv2.VideoCapture(\"video5.mp4\")\n",
    "cap=cv2.VideoCapture(0)\n",
    "\n",
    "while (cap.isOpened()):\n",
    "    \n",
    "    ret,frame=cap.read();\n",
    "\n",
    "    if not ret:\n",
    "        break\n",
    "    gray=cv2.cvtColor(frame,cv2.COLOR_BGR2GRAY)\n",
    "    \n",
    "    faces=face_cascade.detectMultiScale(gray,1.3,5)\n",
    "    for(x1,y1,w1,h1) in faces:\n",
    "        cv2.rectangle(frame,(x1,y1),(x1+w1,y1+h1),(0,255,0),2)\n",
    "        \n",
    "    eyes=eye_cascade.detectMultiScale(gray,1.3,5)\n",
    "    for(x1,y1,w1,h1) in eyes:\n",
    "        cv2.rectangle(frame,(x1,y1),(x1+w1,y1+h1),(0,0,255),2)\n",
    "        \n",
    "    cv2.imshow(\"Frame\",frame)\n",
    "    \n",
    "    key=cv2.waitKey(10)&0xFF\n",
    "    \n",
    "    if key==ord(\"q\"):\n",
    "        break\n",
    "        \n",
    "    key=cv2.waitKey(30)&0xFF\n",
    "    \n",
    "    if key==27:\n",
    "        break\n",
    "        \n",
    "cap.release()\n",
    "cv2.destroyAllWindows()\n",
    "print(\"Sistem Exit\")"
   ]
  },
  {
   "cell_type": "code",
   "execution_count": 57,
   "id": "1659d58f",
   "metadata": {},
   "outputs": [],
   "source": [
    "import cv2\n",
    "\n",
    "img=cv2.imread('foto.jpg')\n",
    "\n",
    "gray=cv2.cvtColor(img,cv2.COLOR_BGR2GRAY)\n",
    "\n",
    "sift=cv2.SIFT_create()\n",
    "\n",
    "kp=sift.detect(gray,None)\n",
    "\n",
    "img=cv2.drawKeypoints(img,kp,img)\n",
    "\n",
    "cv2.imshow(\"Image\",img)\n",
    "if cv2.waitKey(0)&0xff==27:\n",
    "    cv2.destroyAllWindows()"
   ]
  },
  {
   "cell_type": "code",
   "execution_count": 106,
   "id": "1cd4ea68",
   "metadata": {},
   "outputs": [],
   "source": [
    "import cv2 \n",
    "\n",
    "img1=cv2.imread('foto.jpg')\n",
    "img2=cv2.imread('foto1.jpg')\n",
    "\n",
    "gray1=cv2.cvtColor(img1,cv2.COLOR_BGR2GRAY)\n",
    "gray2=cv2.cvtColor(img2,cv2.COLOR_BGR2GRAY)\n",
    "\n",
    "sift=cv2.SIFT_create()\n",
    "\n",
    "kp1,des1=sift.detectAndCompute(img1,None)\n",
    "kp2,des2=sift.detectAndCompute(img2,None)\n",
    "\n",
    "FLANN_INDEX_KDTREE=1\n",
    "\n",
    "flann_params=dict(algorithm=FLANN_INDEX_KDTREE,trees=5)\n",
    "matcher=cv2.FlannBasedMatcher(flann_params,{})\n",
    "\n",
    "matches=matcher.knnMatch(des1,des2,2)\n",
    "matchesMask=[[0,0] for i in range(len(matches))]\n",
    "\n",
    "for i,(m1,m2) in enumerate(matches):\n",
    "    if m1.distance<0.7*m2.distance:\n",
    "        matchesMask[i]=[1,0]\n",
    "        \n",
    "        pt1=kp1[m1.queryIdx].pt\n",
    "        pt2=kp2[m1.trainIdx].pt\n",
    "        \n",
    "        if i%5==0:\n",
    "            cv2.circle(img1,(int(pt1[0]),int(pt1[1])),5,(0,255,0),-1)\n",
    "            cv2.circle(img2,(int(pt2[0]),int(pt2[1])),5,(0,255,0),-1)\n",
    "            \n",
    "draw_params=dict(matchColor=(255,0,0),\n",
    "                 singlePointColor=(0,0,255),\n",
    "                matchesMask=matchesMask,\n",
    "                flags=0)\n",
    "res=cv2.drawMatchesKnn(img1,kp1,img2,kp2,matches,None,**draw_params)\n",
    "res=cv2.resize(res,(780,600))\n",
    "gray1=cv2.resize(gray1,(780,600))\n",
    "\n",
    "\n",
    "cv2.imshow(\"Original\",gray1)\n",
    "cv2.imshow(\"Result\",res)\n",
    "cv2.waitKey(0)\n",
    "cv2.destroyAllWindows()"
   ]
  },
  {
   "cell_type": "code",
   "execution_count": 11,
   "id": "61e8f46d",
   "metadata": {},
   "outputs": [
    {
     "name": "stdout",
     "output_type": "stream",
     "text": [
      "antalyaspor.png : % 0.0\n",
      "besiktas.png : % 0.0\n",
      "galatasaray.png : % 0.0\n",
      "trabzonspor.png : % 0.9615384615384616\n",
      "The team is:  trabzonspor\n"
     ]
    }
   ],
   "source": [
    "#Dosyanın el ile girildiği kod u yaz\n",
    "import cv2\n",
    "import numpy as np\n",
    "import matplotlib.pyplot as plt\n",
    "import os\n",
    "\n",
    "sift=cv2.SIFT_create()\n",
    "\n",
    "bf=cv2.BFMatcher()\n",
    "\n",
    "def find_score(des1,des2):\n",
    "    matches=bf.knnMatch(des1,des2,k=2)\n",
    "    \n",
    "    good=[]\n",
    "    for m,n in matches:\n",
    "        if m.distance<0.5*n.distance:\n",
    "            good.append([m])\n",
    "    \n",
    "    score=(len(good)/len(matches))*100\n",
    "    return score\n",
    "\n",
    "file_list=[fn for fn in os.listdir(\"teamlogo\")]\n",
    "feature_list=[]\n",
    "\n",
    "for file in file_list:\n",
    "    if (file[0]=='.'):\n",
    "        continue\n",
    "    image=cv2.imread(\"teamlogo/\"+file)\n",
    "#     image=cv2.resize(image,(512,512))\n",
    "    kp,desc=sift.detectAndCompute(image,None)\n",
    "    \n",
    "    dict_desc={}\n",
    "    dict_desc[\"team\"]=file\n",
    "    dict_desc[\"desc\"]=desc\n",
    "    \n",
    "    feature_list.append(dict_desc)\n",
    "    \n",
    "img=cv2.imread(\"logo4.png\")\n",
    "kp,desctarget=sift.detectAndCompute(img,None)\n",
    "\n",
    "maximum_score=0\n",
    "team=\"\"\n",
    "for feature in feature_list:\n",
    "    score=find_score(feature[\"desc\"],desctarget)\n",
    "    print(feature[\"team\"],\": %\",score)\n",
    "    if score>maximum_score:\n",
    "        maximum_score=score\n",
    "        team=feature[\"team\"]\n",
    "\n",
    "print(\"The team is: \",team[:len(team)-4])\n",
    "\n",
    "img=cv2.resize(img,(512,512))\n",
    "image=cv2.resize(image,(512,512))\n",
    "\n",
    "cv2.imshow(team,img)\n",
    "\n",
    "cv2.waitKey(0)\n",
    "cv2.destroyAllWindows()"
   ]
  },
  {
   "cell_type": "code",
   "execution_count": 79,
   "id": "36958864",
   "metadata": {},
   "outputs": [
    {
     "name": "stdout",
     "output_type": "stream",
     "text": [
      "['antalyaspor.png', 'beşiktaş.png', 'galatasaray.png', 'trabzonspor.png']\n"
     ]
    }
   ],
   "source": [
    "print(file_list)"
   ]
  },
  {
   "cell_type": "code",
   "execution_count": 41,
   "id": "6dc65aee",
   "metadata": {
    "scrolled": true
   },
   "outputs": [
    {
     "data": {
      "text/plain": [
       "'4.5.5'"
      ]
     },
     "execution_count": 41,
     "metadata": {},
     "output_type": "execute_result"
    }
   ],
   "source": [
    "cv2.__version__"
   ]
  },
  {
   "cell_type": "code",
   "execution_count": 45,
   "id": "d5fc6dfe",
   "metadata": {
    "scrolled": true
   },
   "outputs": [
    {
     "data": {
      "text/plain": [
       "'1.20.3'"
      ]
     },
     "execution_count": 45,
     "metadata": {},
     "output_type": "execute_result"
    }
   ],
   "source": [
    "import numpy\n",
    "numpy.__version__"
   ]
  },
  {
   "cell_type": "code",
   "execution_count": 74,
   "id": "05ff89f3",
   "metadata": {},
   "outputs": [
    {
     "name": "stdout",
     "output_type": "stream",
     "text": [
      "Collecting opencv-contrib-python\n",
      "  Using cached opencv_contrib_python-4.5.5.62-cp36-abi3-win_amd64.whl (42.2 MB)\n",
      "Requirement already satisfied: numpy>=1.17.3 in d:\\anaconda3\\lib\\site-packages (from opencv-contrib-python) (1.20.3)\n",
      "Installing collected packages: opencv-contrib-python\n"
     ]
    },
    {
     "name": "stderr",
     "output_type": "stream",
     "text": [
      "WARNING: Ignoring invalid distribution -ip (d:\\anaconda3\\lib\\site-packages)\n",
      "WARNING: Ignoring invalid distribution -ip (d:\\anaconda3\\lib\\site-packages)\n",
      "WARNING: Ignoring invalid distribution -ip (d:\\anaconda3\\lib\\site-packages)\n",
      "ERROR: Could not install packages due to an OSError: [WinError 5] Erişim engellendi: 'D:\\\\anaconda3\\\\Lib\\\\site-packages\\\\cv2\\\\cv2.pyd'\n",
      "Consider using the `--user` option or check the permissions.\n",
      "\n",
      "WARNING: Ignoring invalid distribution -ip (d:\\anaconda3\\lib\\site-packages)\n",
      "WARNING: Ignoring invalid distribution -ip (d:\\anaconda3\\lib\\site-packages)\n",
      "WARNING: Ignoring invalid distribution -ip (d:\\anaconda3\\lib\\site-packages)\n"
     ]
    }
   ],
   "source": [
    "!pip install opencv-contrib-python"
   ]
  }
 ],
 "metadata": {
  "kernelspec": {
   "display_name": "Python 3 (ipykernel)",
   "language": "python",
   "name": "python3"
  },
  "language_info": {
   "codemirror_mode": {
    "name": "ipython",
    "version": 3
   },
   "file_extension": ".py",
   "mimetype": "text/x-python",
   "name": "python",
   "nbconvert_exporter": "python",
   "pygments_lexer": "ipython3",
   "version": "3.9.7"
  }
 },
 "nbformat": 4,
 "nbformat_minor": 5
}
