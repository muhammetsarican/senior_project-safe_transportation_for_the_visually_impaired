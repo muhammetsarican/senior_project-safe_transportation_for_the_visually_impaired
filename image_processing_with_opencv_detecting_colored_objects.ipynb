{
 "cells": [
  {
   "cell_type": "code",
   "execution_count": 1,
   "id": "5a1dddad",
   "metadata": {},
   "outputs": [],
   "source": [
    "#following the object from webcam\n",
    "import argparse\n",
    "import imutils\n",
    "import cv2 \n",
    "\n",
    "ap=argparse.ArgumentParser()\n",
    "ap.add_argument(\"-v\",\"--video\",help=\"path to the(optional) video file\")\n",
    "\n",
    "# args=vars(ap.parse_args())\n",
    "\n",
    "greenLower=(29,86,6)\n",
    "greenUpper=(64,255,255)\n",
    "\n",
    "blueLower=(110,50,50)\n",
    "blueUpper=(130,255,255)\n",
    "\n",
    "redLower=(160,50,50)\n",
    "redUpper=(180,255,255)\n",
    "\n",
    "camera=cv2.VideoCapture(0)\n",
    "while True:\n",
    "    (grabbed,frame)=camera.read()\n",
    "    if not grabbed:\n",
    "        break\n",
    "    \n",
    "    frame=imutils.resize(frame,width=600)\n",
    "    hsv=cv2.cvtColor(frame,cv2.COLOR_BGR2HSV)\n",
    "    \n",
    "    mask=cv2.inRange(hsv,blueLower,blueUpper)\n",
    "    mask=cv2.erode(mask,None,iterations=2)\n",
    "    mask=cv2.dilate(mask,None,iterations=2)\n",
    "    \n",
    "    cnts=cv2.findContours(mask.copy(),cv2.RETR_EXTERNAL,cv2.CHAIN_APPROX_SIMPLE)[-2]\n",
    "    center=None\n",
    "    \n",
    "    if len(cnts)>0:\n",
    "        c=max(cnts,key=cv2.contourArea)\n",
    "        ((x,y),radius)=cv2.minEnclosingCircle(c)\n",
    "        M=cv2.moments(c)\n",
    "        center=(int(M[\"m10\"]/M[\"m00\"]),int(M[\"m01\"]/M[\"m00\"]))\n",
    "        \n",
    "        if radius>10:\n",
    "            cv2.circle(frame,(int(x),int(y)),int(radius),(0,255,255),2)\n",
    "            cv2.circle(frame,center,5,(0,0,255),-1)\n",
    "            \n",
    "    cv2.imshow(\"Frame\",frame)\n",
    "    key=cv2.waitKey(1)&0xFF\n",
    "    \n",
    "    if key==ord(\"q\"):\n",
    "        break"
   ]
  }
 ],
 "metadata": {
  "kernelspec": {
   "display_name": "Python 3 (ipykernel)",
   "language": "python",
   "name": "python3"
  },
  "language_info": {
   "codemirror_mode": {
    "name": "ipython",
    "version": 3
   },
   "file_extension": ".py",
   "mimetype": "text/x-python",
   "name": "python",
   "nbconvert_exporter": "python",
   "pygments_lexer": "ipython3",
   "version": "3.9.7"
  }
 },
 "nbformat": 4,
 "nbformat_minor": 5
}
